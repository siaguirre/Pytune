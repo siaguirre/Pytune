{
 "cells": [
  {
   "cell_type": "code",
   "execution_count": null,
   "metadata": {},
   "outputs": [
    {
     "ename": "",
     "evalue": "",
     "output_type": "error",
     "traceback": [
      "\u001b[1;31mRunning cells with 'venv (Python 3.12.2)' requires the ipykernel package.\n",
      "\u001b[1;31mRun the following command to install 'ipykernel' into the Python environment. \n",
      "\u001b[1;31mCommand: 'c:/Users/simon/Documents/GitHub/tpProgra1/venv/Scripts/python.exe -m pip install ipykernel -U --force-reinstall'"
     ]
    }
   ],
   "source": [
    "# --- 1. Instalamos las librerías necesarias ---\n",
    "%pip install flask flask-ngrok transformers scipy\n",
    "\n",
    "# --- 2. Importamos todo lo que vamos a necesitar ---\n",
    "from flask import Flask, request, jsonify\n",
    "from flask_ngrok import run_with_ngrok\n",
    "import time\n",
    "# --- 3. Creamos la aplicación Flask ---\n",
    "app = Flask(__name__)\n",
    "run_with_ngrok(app)  # Esto automáticamente abre un túnel cuando llamemos app.run()\n",
    "\n",
    "# --- 4. Definimos el endpoint que recibe el prompt ---\n",
    "@app.route(\"/generate_music\", methods=[\"POST\"])\n",
    "def generate_music():\n",
    "    output_path = \"output/musicgen_out.wav\"\n",
    "    start_time = time.time()\n",
    "    print(\"Cargando modelo...\")\n",
    "    synthesiser = pipeline(\"text-to-audio\", \"facebook/musicgen-small\")\n",
    "    print(\"Modelo cargado. Generando música...\")\n",
    "    music = synthesiser(\"8-bit La marcha de Boca\", forward_params={\"do_sample\": True})\n",
    "    scipy.io.wavfile.write(output_path, rate=music[\"sampling_rate\"], data=music[\"audio\"])\n",
    "    print(\"Audio generado en %.2f segundos\" % (time.time() - start_time))\n",
    "    return jsonify({\"message\": \"Audio generado\", \"output_path\": output_path})\n",
    "\n",
    "# --- 5. Levantamos el servidor ---\n",
    "app.run()"
   ]
  }
 ],
 "metadata": {
  "kernelspec": {
   "display_name": "venv",
   "language": "python",
   "name": "python3"
  },
  "language_info": {
   "name": "python",
   "version": "3.12.2"
  }
 },
 "nbformat": 4,
 "nbformat_minor": 2
}
