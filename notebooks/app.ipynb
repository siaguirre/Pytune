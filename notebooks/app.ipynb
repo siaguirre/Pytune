{
 "cells": [
  {
   "cell_type": "code",
   "execution_count": null,
   "metadata": {},
   "outputs": [
    {
     "ename": "",
     "evalue": "",
     "output_type": "error",
     "traceback": [
      "\u001b[1;31mRunning cells with 'venv (Python 3.12.2)' requires the ipykernel package.\n",
      "\u001b[1;31mRun the following command to install 'ipykernel' into the Python environment. \n",
      "\u001b[1;31mCommand: 'c:/Users/simon/Documents/GitHub/tpProgra1/venv/Scripts/python.exe -m pip install ipykernel -U --force-reinstall'"
     ]
    }
   ],
   "source": [
    "%pip install flask pyngrok transformers scipy\n",
    "from flask import Flask, request, send_file, make_response\n",
    "from pyngrok import ngrok\n",
    "import time\n",
    "from transformers import pipeline\n",
    "import scipy.io.wavfile\n",
    "import os\n",
    "import getpass\n",
    "\n",
    "app = Flask(__name__)\n",
    "authtoken = getpass.getpass(\"Ingresá tu NGROK_AUTHTOKEN (no se mostrará): \") \n",
    "ngrok.set_auth_token(authtoken)\n",
    "public_url = ngrok.connect(5000)\n",
    "print(f'El servidor está disponible públicamente en: {public_url}')\n",
    "\n",
    "@app.route(\"/generate_music\", methods=[\"POST\", \"OPTIONS\"])\n",
    "def generate_music():\n",
    "    if request.method == 'OPTIONS':\n",
    "          # Responder al preflight\n",
    "          response = make_response()\n",
    "          response.headers.add(\"Access-Control-Allow-Origin\", \"*\")\n",
    "          response.headers.add(\"Access-Control-Allow-Methods\", \"GET, POST, OPTIONS\")\n",
    "          response.headers.add(\"Access-Control-Allow-Headers\", \"Content-Type, Authorization\")\n",
    "          return response\n",
    "    output_path = \"output/musicgen_out.wav\"\n",
    "    prompt = request.json.get(\"prompt\", \"Default melody\")  # Recibe el prompt del cliente\n",
    "    start_time = time.time()\n",
    "\n",
    "    try:\n",
    "        print(\"Cargando modelo...\")\n",
    "        synthesiser = pipeline(\"text-to-audio\", \"facebook/musicgen-small\")\n",
    "        print(\"Modelo cargado. Generando música...\")\n",
    "        music = synthesiser(prompt, forward_params={\"do_sample\": True})\n",
    "        scipy.io.wavfile.write(output_path, rate=music[\"sampling_rate\"], data=music[\"audio\"])\n",
    "        print(\"Audio generado en %.2f segundos\" % (time.time() - start_time))\n",
    "\n",
    "        # Verifica si el archivo fue generado correctamente\n",
    "        if os.path.exists(output_path):\n",
    "            return send_file(output_path, as_attachment=True)\n",
    "        else:\n",
    "            return \"Error: No se pudo generar el archivo de audio.\", 500\n",
    "    except Exception as e:\n",
    "        print(f\"Error: {e}\")\n",
    "        return f\"Error al generar la música: {str(e)}\", 500\n",
    "                \n",
    "# --- 6. Crear carpeta de salida si no existe ---,\n",
    "if not os.path.exists(\"output\"):\n",
    "    os.makedirs(\"output\")\n",
    "\n",
    "# --- 7. Levantamos el servidor ---,\n",
    "app.run(port=5000)"
   ]
  }
 ],
 "metadata": {
  "kernelspec": {
   "display_name": "venv",
   "language": "python",
   "name": "python3"
  },
  "language_info": {
   "name": "python",
   "version": "3.12.2"
  }
 },
 "nbformat": 4,
 "nbformat_minor": 2
}
