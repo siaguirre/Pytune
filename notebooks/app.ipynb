{
 "cells": [
  {
   "cell_type": "code",
   "execution_count": null,
   "metadata": {},
   "outputs": [
    {
     "ename": "",
     "evalue": "",
     "output_type": "error",
     "traceback": [
      "\u001b[1;31mRunning cells with 'venv (Python 3.12.2)' requires the ipykernel package.\n",
      "\u001b[1;31mRun the following command to install 'ipykernel' into the Python environment. \n",
      "\u001b[1;31mCommand: 'c:/Users/simon/Documents/GitHub/tpProgra1/venv/Scripts/python.exe -m pip install ipykernel -U --force-reinstall'"
     ]
    }
   ],
   "source": [
    "# --- 1. Instalamos las librerías necesarias ---\n",
    "!pip install flask flask-ngrok\n",
    "\n",
    "# --- 2. Importamos todo lo que vamos a necesitar ---\n",
    "from flask import Flask, request, jsonify\n",
    "from flask_ngrok import run_with_ngrok\n",
    "\n",
    "# --- 3. Creamos la aplicación Flask ---\n",
    "app = Flask(__name__)\n",
    "run_with_ngrok(app)  # Esto automáticamente abre un túnel cuando llamemos app.run()\n",
    "\n",
    "# --- 4. Definimos el endpoint que recibe el prompt ---\n",
    "@app.route(\"/generate_music\", methods=[\"POST\"])\n",
    "def generate_music():\n",
    "    data = request.json\n",
    "    prompt = data.get(\"prompt\", \"\")\n",
    "    \n",
    "    # Lógica de procesamiento con MusicGen\n",
    "    # Acá pondrías tu código para generar música basado en el prompt\n",
    "    print(f\"Recibido prompt: {prompt}\")\n",
    "    \n",
    "    # Simulamos que generamos una URL de música\n",
    "    music_url = \"https://dummy-music-link.com/song.mp3\"  # Placeholder\n",
    "\n",
    "    return jsonify({\"music_url\": music_url})\n",
    "\n",
    "# --- 5. Levantamos el servidor ---\n",
    "app.run()"
   ]
  }
 ],
 "metadata": {
  "kernelspec": {
   "display_name": "venv",
   "language": "python",
   "name": "python3"
  },
  "language_info": {
   "name": "python",
   "version": "3.12.2"
  }
 },
 "nbformat": 4,
 "nbformat_minor": 2
}
